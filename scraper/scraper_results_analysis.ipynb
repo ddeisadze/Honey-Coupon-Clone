{
 "cells": [
  {
   "cell_type": "code",
   "execution_count": 49,
   "metadata": {},
   "outputs": [],
   "source": [
    "import spacy\n",
    "from spacy import displacy\n",
    "from spacymoji import Emoji\n",
    "import pandas as pd\n",
    "import json\n",
    "import nltk\n",
    "import os"
   ]
  },
  {
   "cell_type": "code",
   "execution_count": 2,
   "metadata": {},
   "outputs": [],
   "source": [
    "df_crawled = pd.read_json('data-20221228-204114.json')\n",
    "\n",
    "f = open('data-20221228-204114.json')\n",
    "data_json = json.load(f)\n",
    "print(data_json)\n",
    "res = pd.json_normalize(data_json)\n",
    "#res1 = pd.json_normalize(data_json)\n",
    "print(res)\n",
    "f.close()\n",
    "\n",
    "#exploded = df_crawled.explode(\"data\")\n",
    "# print(exploded)\n",
    "# pd.concat([exploded[\"id\"].reset_index(drop=True), pd.json_normalize(exploded[\"actions\"])], axis=1)\n",
    "# exploded[\"id\"] = exploded[\"data\"].apply(lambda x: print(pd.json_normalize(x)))\n",
    "len(df_crawled.index)"
   ]
  },
  {
   "cell_type": "code",
   "execution_count": 3,
   "metadata": {},
   "outputs": [
    {
     "name": "stdout",
     "output_type": "stream",
     "text": [
      "Collecting en-core-web-sm==3.4.1\n",
      "  Downloading https://github.com/explosion/spacy-models/releases/download/en_core_web_sm-3.4.1/en_core_web_sm-3.4.1-py3-none-any.whl (12.8 MB)\n",
      "     --------------------------------------- 12.8/12.8 MB 32.8 MB/s eta 0:00:00\n",
      "Requirement already satisfied: spacy<3.5.0,>=3.4.0 in c:\\users\\tbili\\onedrive\\documents\\github\\unboxr\\scraper\\.venv\\lib\\site-packages (from en-core-web-sm==3.4.1) (3.4.4)\n",
      "Requirement already satisfied: numpy>=1.15.0 in c:\\users\\tbili\\onedrive\\documents\\github\\unboxr\\scraper\\.venv\\lib\\site-packages (from spacy<3.5.0,>=3.4.0->en-core-web-sm==3.4.1) (1.24.1)\n",
      "Requirement already satisfied: setuptools in c:\\users\\tbili\\onedrive\\documents\\github\\unboxr\\scraper\\.venv\\lib\\site-packages (from spacy<3.5.0,>=3.4.0->en-core-web-sm==3.4.1) (65.6.3)\n",
      "Requirement already satisfied: spacy-loggers<2.0.0,>=1.0.0 in c:\\users\\tbili\\onedrive\\documents\\github\\unboxr\\scraper\\.venv\\lib\\site-packages (from spacy<3.5.0,>=3.4.0->en-core-web-sm==3.4.1) (1.0.4)\n",
      "Requirement already satisfied: packaging>=20.0 in c:\\users\\tbili\\onedrive\\documents\\github\\unboxr\\scraper\\.venv\\lib\\site-packages (from spacy<3.5.0,>=3.4.0->en-core-web-sm==3.4.1) (22.0)\n",
      "Requirement already satisfied: jinja2 in c:\\users\\tbili\\onedrive\\documents\\github\\unboxr\\scraper\\.venv\\lib\\site-packages (from spacy<3.5.0,>=3.4.0->en-core-web-sm==3.4.1) (3.1.2)\n",
      "Requirement already satisfied: cymem<2.1.0,>=2.0.2 in c:\\users\\tbili\\onedrive\\documents\\github\\unboxr\\scraper\\.venv\\lib\\site-packages (from spacy<3.5.0,>=3.4.0->en-core-web-sm==3.4.1) (2.0.7)\n",
      "Requirement already satisfied: smart-open<7.0.0,>=5.2.1 in c:\\users\\tbili\\onedrive\\documents\\github\\unboxr\\scraper\\.venv\\lib\\site-packages (from spacy<3.5.0,>=3.4.0->en-core-web-sm==3.4.1) (6.3.0)\n",
      "Requirement already satisfied: pydantic!=1.8,!=1.8.1,<1.11.0,>=1.7.4 in c:\\users\\tbili\\onedrive\\documents\\github\\unboxr\\scraper\\.venv\\lib\\site-packages (from spacy<3.5.0,>=3.4.0->en-core-web-sm==3.4.1) (1.10.2)\n",
      "Requirement already satisfied: tqdm<5.0.0,>=4.38.0 in c:\\users\\tbili\\onedrive\\documents\\github\\unboxr\\scraper\\.venv\\lib\\site-packages (from spacy<3.5.0,>=3.4.0->en-core-web-sm==3.4.1) (4.64.1)\n",
      "Requirement already satisfied: requests<3.0.0,>=2.13.0 in c:\\users\\tbili\\onedrive\\documents\\github\\unboxr\\scraper\\.venv\\lib\\site-packages (from spacy<3.5.0,>=3.4.0->en-core-web-sm==3.4.1) (2.28.1)\n",
      "Requirement already satisfied: langcodes<4.0.0,>=3.2.0 in c:\\users\\tbili\\onedrive\\documents\\github\\unboxr\\scraper\\.venv\\lib\\site-packages (from spacy<3.5.0,>=3.4.0->en-core-web-sm==3.4.1) (3.3.0)\n",
      "Requirement already satisfied: spacy-legacy<3.1.0,>=3.0.10 in c:\\users\\tbili\\onedrive\\documents\\github\\unboxr\\scraper\\.venv\\lib\\site-packages (from spacy<3.5.0,>=3.4.0->en-core-web-sm==3.4.1) (3.0.10)\n",
      "Requirement already satisfied: thinc<8.2.0,>=8.1.0 in c:\\users\\tbili\\onedrive\\documents\\github\\unboxr\\scraper\\.venv\\lib\\site-packages (from spacy<3.5.0,>=3.4.0->en-core-web-sm==3.4.1) (8.1.6)\n",
      "Requirement already satisfied: wasabi<1.1.0,>=0.9.1 in c:\\users\\tbili\\onedrive\\documents\\github\\unboxr\\scraper\\.venv\\lib\\site-packages (from spacy<3.5.0,>=3.4.0->en-core-web-sm==3.4.1) (0.10.1)\n",
      "Requirement already satisfied: srsly<3.0.0,>=2.4.3 in c:\\users\\tbili\\onedrive\\documents\\github\\unboxr\\scraper\\.venv\\lib\\site-packages (from spacy<3.5.0,>=3.4.0->en-core-web-sm==3.4.1) (2.4.5)\n",
      "Requirement already satisfied: preshed<3.1.0,>=3.0.2 in c:\\users\\tbili\\onedrive\\documents\\github\\unboxr\\scraper\\.venv\\lib\\site-packages (from spacy<3.5.0,>=3.4.0->en-core-web-sm==3.4.1) (3.0.8)\n",
      "Requirement already satisfied: typer<0.8.0,>=0.3.0 in c:\\users\\tbili\\onedrive\\documents\\github\\unboxr\\scraper\\.venv\\lib\\site-packages (from spacy<3.5.0,>=3.4.0->en-core-web-sm==3.4.1) (0.7.0)\n",
      "Requirement already satisfied: murmurhash<1.1.0,>=0.28.0 in c:\\users\\tbili\\onedrive\\documents\\github\\unboxr\\scraper\\.venv\\lib\\site-packages (from spacy<3.5.0,>=3.4.0->en-core-web-sm==3.4.1) (1.0.9)\n",
      "Requirement already satisfied: catalogue<2.1.0,>=2.0.6 in c:\\users\\tbili\\onedrive\\documents\\github\\unboxr\\scraper\\.venv\\lib\\site-packages (from spacy<3.5.0,>=3.4.0->en-core-web-sm==3.4.1) (2.0.8)\n",
      "Requirement already satisfied: pathy>=0.3.5 in c:\\users\\tbili\\onedrive\\documents\\github\\unboxr\\scraper\\.venv\\lib\\site-packages (from spacy<3.5.0,>=3.4.0->en-core-web-sm==3.4.1) (0.10.1)\n",
      "Requirement already satisfied: typing-extensions>=4.1.0 in c:\\users\\tbili\\onedrive\\documents\\github\\unboxr\\scraper\\.venv\\lib\\site-packages (from pydantic!=1.8,!=1.8.1,<1.11.0,>=1.7.4->spacy<3.5.0,>=3.4.0->en-core-web-sm==3.4.1) (4.4.0)\n",
      "Requirement already satisfied: idna<4,>=2.5 in c:\\users\\tbili\\onedrive\\documents\\github\\unboxr\\scraper\\.venv\\lib\\site-packages (from requests<3.0.0,>=2.13.0->spacy<3.5.0,>=3.4.0->en-core-web-sm==3.4.1) (3.4)\n",
      "Requirement already satisfied: urllib3<1.27,>=1.21.1 in c:\\users\\tbili\\onedrive\\documents\\github\\unboxr\\scraper\\.venv\\lib\\site-packages (from requests<3.0.0,>=2.13.0->spacy<3.5.0,>=3.4.0->en-core-web-sm==3.4.1) (1.26.13)\n",
      "Requirement already satisfied: charset-normalizer<3,>=2 in c:\\users\\tbili\\onedrive\\documents\\github\\unboxr\\scraper\\.venv\\lib\\site-packages (from requests<3.0.0,>=2.13.0->spacy<3.5.0,>=3.4.0->en-core-web-sm==3.4.1) (2.1.1)\n",
      "Requirement already satisfied: certifi>=2017.4.17 in c:\\users\\tbili\\onedrive\\documents\\github\\unboxr\\scraper\\.venv\\lib\\site-packages (from requests<3.0.0,>=2.13.0->spacy<3.5.0,>=3.4.0->en-core-web-sm==3.4.1) (2022.12.7)\n",
      "Requirement already satisfied: confection<1.0.0,>=0.0.1 in c:\\users\\tbili\\onedrive\\documents\\github\\unboxr\\scraper\\.venv\\lib\\site-packages (from thinc<8.2.0,>=8.1.0->spacy<3.5.0,>=3.4.0->en-core-web-sm==3.4.1) (0.0.3)\n",
      "Requirement already satisfied: blis<0.8.0,>=0.7.8 in c:\\users\\tbili\\onedrive\\documents\\github\\unboxr\\scraper\\.venv\\lib\\site-packages (from thinc<8.2.0,>=8.1.0->spacy<3.5.0,>=3.4.0->en-core-web-sm==3.4.1) (0.7.9)\n",
      "Requirement already satisfied: colorama in c:\\users\\tbili\\onedrive\\documents\\github\\unboxr\\scraper\\.venv\\lib\\site-packages (from tqdm<5.0.0,>=4.38.0->spacy<3.5.0,>=3.4.0->en-core-web-sm==3.4.1) (0.4.6)\n",
      "Requirement already satisfied: click<9.0.0,>=7.1.1 in c:\\users\\tbili\\onedrive\\documents\\github\\unboxr\\scraper\\.venv\\lib\\site-packages (from typer<0.8.0,>=0.3.0->spacy<3.5.0,>=3.4.0->en-core-web-sm==3.4.1) (8.1.3)\n",
      "Requirement already satisfied: MarkupSafe>=2.0 in c:\\users\\tbili\\onedrive\\documents\\github\\unboxr\\scraper\\.venv\\lib\\site-packages (from jinja2->spacy<3.5.0,>=3.4.0->en-core-web-sm==3.4.1) (2.1.1)\n",
      "✔ Download and installation successful\n",
      "You can now load the package via spacy.load('en_core_web_sm')\n"
     ]
    }
   ],
   "source": [
    "!python -m spacy download en_core_web_sm\n",
    "nlp = spacy.load(\"en_core_web_sm\")"
   ]
  },
  {
   "cell_type": "code",
   "execution_count": 59,
   "metadata": {},
   "outputs": [
    {
     "name": "stdout",
     "output_type": "stream",
     "text": [
      "Love my Ridge Wallet! ⛰️ It’s been a part of my everyday carry for over a year now. No more big bulky wallet. And the Key Case is now going to be right alongside it. Perfect holiday gift for your friend or family member. Or even yourself 😉 Visit ridge.com/driggsy and save up to 40% until December 22nd 🙌🏼 Product: @The Ridge Forged Ember Wallet w/ AirTag Carbon Case & Forged Ember Key Case #RidgePartner #RidgeWallet #RidgeKeyCase #AirTag #everydaycarry #holidaygifts\n",
      "Ridge Wallet 8 20 PERSON\n",
      "a year 72 78 DATE\n",
      "the Key Case 114 126 ORG\n",
      "up to 40% 273 282 PERCENT\n",
      "December 22nd 289 302 DATE\n",
      "AirTag Carbon Case & Forged Ember Key Case 349 391 ORG\n",
      "#RidgeKeyCase #AirTag # 419 442 MONEY\n",
      "love Ridge Wallet ⛰ ️ everyday carry year big bulky wallet Key Case go right alongside perfect holiday gift friend family member 😉 visit ridge.com/driggsy save 40 December 22nd 🙌 🏼 product @The Ridge Forged Ember Wallet w/ AirTag Carbon Case Forged Ember Key Case RidgePartner RidgeWallet ridgekeycase AirTag everydaycarry holidaygift\n",
      "Ridge Wallet 5 17 PERSON\n",
      "⛰ 18 19 DATE\n",
      "everyday carry year 22 41 DATE\n",
      "Key Case 59 67 PERSON\n",
      "😉 129 130 PERSON\n",
      "40 December 22nd 160 176 DATE\n",
      "AirTag Carbon Case Forged Ember Key Case RidgePartner 223 276 WORK_OF_ART\n",
      "AirTag 302 308 ORG\n"
     ]
    }
   ],
   "source": [
    "# print(normalized_dataframe[\"data.video_descr\"].iloc[0])\n",
    "doc = nlp(normalized_dataframe[\"data.video_descr\"].iloc[5])\n",
    "\n",
    "print(doc)\n",
    "# emoji = Emoji(nlp)\n",
    "# nlp.add_pipe(emoji, first=True)\n",
    "\n",
    "# print(doc)\n",
    "new_doc = nlp(\" \".join(token.lemma_ for token in doc if not token.is_stop and not token.is_punct))\n",
    "\n",
    "for ent in doc.ents:\n",
    "    print(ent.text, ent.start_char, ent.end_char, ent.label_)\n",
    "    \n",
    "print(new_doc)\n",
    "\n",
    "for ent in new_doc.ents:\n",
    "    print(ent.text, ent.start_char, ent.end_char, ent.label_)\n",
    "\n",
    "# displacy.serve(doc, style=\"ent\")"
   ]
  }
 ],
 "metadata": {
  "kernelspec": {
   "display_name": ".venv",
   "language": "python",
   "name": "python3"
  },
  "language_info": {
   "codemirror_mode": {
    "name": "ipython",
    "version": 3
   },
   "file_extension": ".py",
   "mimetype": "text/x-python",
   "name": "python",
   "nbconvert_exporter": "python",
   "pygments_lexer": "ipython3",
   "version": "3.8.0 (tags/v3.8.0:fa919fd, Oct 14 2019, 19:37:50) [MSC v.1916 64 bit (AMD64)]"
  },
  "orig_nbformat": 4,
  "vscode": {
   "interpreter": {
    "hash": "8c064e561841d7bcd781e0397ee31ff6e06d50bedeeda53b7ee789580ce1b68a"
   }
  }
 },
 "nbformat": 4,
 "nbformat_minor": 2
}
